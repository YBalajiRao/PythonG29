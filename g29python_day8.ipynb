{
 "cells": [
  {
   "cell_type": "code",
   "execution_count": null,
   "metadata": {},
   "outputs": [],
   "source": [
    "Happy 1 year birthday to your Python project, \"day3_python\"! 🎉 Let's dive into functions, `args`, `kwargs`, and dictionaries with some examples to enhance your practice.\n",
    "\n",
    "### Functions in Python:\n",
    "\n",
    "Functions are blocks of reusable code that perform a specific task. They help in organizing code and making it more modular.\n",
    "\n",
    "```python\n",
    "def greet(name):\n",
    "    \"\"\"A simple function to greet someone.\"\"\"\n",
    "    print(f\"Hello, {name}!\")\n",
    "\n",
    "# Calling the function\n",
    "greet(\"John\")\n",
    "```\n",
    "\n",
    "### `args` (Arbitrary Arguments):\n",
    "\n",
    "The `*args` syntax in a function definition allows it to accept any number of positional arguments.\n",
    "\n",
    "```python\n",
    "def add_numbers(*args):\n",
    "    \"\"\"A function to add any number of given numbers.\"\"\"\n",
    "    result = sum(args)\n",
    "    return result\n",
    "\n",
    "# Calling the function with different numbers of arguments\n",
    "print(add_numbers(1, 2, 3))       # Output: 6\n",
    "print(add_numbers(4, 5, 6, 7))    # Output: 22\n",
    "```\n",
    "\n",
    "### `kwargs` (Keyword Arguments):\n",
    "\n",
    "The `**kwargs` syntax in a function definition allows it to accept any number of keyword arguments as a dictionary.\n",
    "\n",
    "```python\n",
    "def print_info(**kwargs):\n",
    "    \"\"\"A function to print information from keyword arguments.\"\"\"\n",
    "    for key, value in kwargs.items():\n",
    "        print(f\"{key}: {value}\")\n",
    "\n",
    "# Calling the function with different keyword arguments\n",
    "print_info(name=\"Alice\", age=25, city=\"Wonderland\")\n",
    "# Output:\n",
    "# name: Alice\n",
    "# age: 25\n",
    "# city: Wonderland\n",
    "```\n",
    "\n",
    "### Example with Dictionaries:\n",
    "\n",
    "Combining functions, args, kwargs and dictionaries can be powerful. Here's an example:\n",
    "\n",
    "\n",
    "def process_student_info(name, **info):\n",
    "    \"\"\"A function to process student information.\"\"\"\n",
    "    print(f\"Student: {name}\")\n",
    "    for key, value in info.items():\n",
    "        print(f\"{key}: {value}\")\n",
    "\n",
    "# Calling the function with a dictionary of student information\n",
    "student_data = {\n",
    "    \"age\": 20,\n",
    "    \"grade\": \"A\",\n",
    "    \"subjects\": [\"Math\", \"Science\"]\n",
    "}\n",
    "process_student_info(\"Bob\", **student_data)\n"
   ]
  },
  {
   "cell_type": "code",
   "execution_count": 1,
   "metadata": {},
   "outputs": [
    {
     "data": {
      "text/plain": [
       "4"
      ]
     },
     "execution_count": 1,
     "metadata": {},
     "output_type": "execute_result"
    }
   ],
   "source": [
    "2+2\n"
   ]
  }
 ],
 "metadata": {
  "kernelspec": {
   "display_name": "Python 3",
   "language": "python",
   "name": "python3"
  },
  "language_info": {
   "codemirror_mode": {
    "name": "ipython",
    "version": 3
   },
   "file_extension": ".py",
   "mimetype": "text/x-python",
   "name": "python",
   "nbconvert_exporter": "python",
   "pygments_lexer": "ipython3",
   "version": "3.11.4"
  }
 },
 "nbformat": 4,
 "nbformat_minor": 2
}
